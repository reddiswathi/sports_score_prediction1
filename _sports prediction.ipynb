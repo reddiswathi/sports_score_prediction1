{
 "cells": [
  {
   "cell_type": "code",
   "execution_count": 1,
   "id": "da9dd202",
   "metadata": {},
   "outputs": [],
   "source": [
    "import gradio as gr\n",
    "import pandas as pd"
   ]
  },
  {
   "cell_type": "code",
   "execution_count": 2,
   "id": "6413db5f",
   "metadata": {},
   "outputs": [],
   "source": [
    "from sklearn.model_selection import train_test_split"
   ]
  },
  {
   "cell_type": "code",
   "execution_count": 3,
   "id": "54e6e225",
   "metadata": {},
   "outputs": [],
   "source": [
    "from sklearn.ensemble import RandomForestRegressor\n",
    "from sklearn.metrics import mean_absolute_error"
   ]
  },
  {
   "cell_type": "code",
   "execution_count": 4,
   "id": "9c66a933",
   "metadata": {},
   "outputs": [],
   "source": [
    "import pandas as pd\n",
    "import numpy as np\n",
    "\n",
    "# Create a synthetic dataset\n",
    "np.random.seed(42)\n",
    "teams = ['Team A', 'Team B', 'Team C', 'Team D']\n",
    "venues = ['Venue 1', 'Venue 2', 'Venue 3']\n",
    "batting_orders = ['First', 'Second']\n",
    "num_samples = 100\n",
    "\n",
    "data = pd.DataFrame(columns=['team_performance', 'venue', 'batting_order', 'score'])\n",
    "\n",
    "for _ in range(num_samples):\n",
    "    team_performance = np.random.uniform(0, 10)\n",
    "    venue = np.random.choice(venues)\n",
    "    batting_order = np.random.choice(batting_orders)\n",
    "    score = team_performance * 10 + np.random.normal(0, 5)\n",
    "    \n",
    "    data = data.append({\n",
    "        'team_performance': team_performance,\n",
    "        'venue': venue,\n",
    "        'batting_order': batting_order,\n",
    "        'score': score\n",
    "    }, ignore_index=True)\n",
    "\n",
    "# Save the synthetic dataset to a CSV file\n",
    "data.to_csv('ipl_data.csv', index=False)\n",
    "\n",
    "\n",
    "\n",
    "\n",
    "\n",
    "\n"
   ]
  },
  {
   "cell_type": "code",
   "execution_count": 8,
   "id": "913a8f61",
   "metadata": {},
   "outputs": [
    {
     "data": {
      "text/html": [
       "<div>\n",
       "<style scoped>\n",
       "    .dataframe tbody tr th:only-of-type {\n",
       "        vertical-align: middle;\n",
       "    }\n",
       "\n",
       "    .dataframe tbody tr th {\n",
       "        vertical-align: top;\n",
       "    }\n",
       "\n",
       "    .dataframe thead th {\n",
       "        text-align: right;\n",
       "    }\n",
       "</style>\n",
       "<table border=\"1\" class=\"dataframe\">\n",
       "  <thead>\n",
       "    <tr style=\"text-align: right;\">\n",
       "      <th></th>\n",
       "      <th>team_performance</th>\n",
       "      <th>venue</th>\n",
       "      <th>batting_order</th>\n",
       "      <th>score</th>\n",
       "    </tr>\n",
       "  </thead>\n",
       "  <tbody>\n",
       "    <tr>\n",
       "      <th>0</th>\n",
       "      <td>3.745401</td>\n",
       "      <td>Venue 1</td>\n",
       "      <td>First</td>\n",
       "      <td>40.692455</td>\n",
       "    </tr>\n",
       "    <tr>\n",
       "      <th>1</th>\n",
       "      <td>1.560186</td>\n",
       "      <td>Venue 3</td>\n",
       "      <td>First</td>\n",
       "      <td>23.217013</td>\n",
       "    </tr>\n",
       "    <tr>\n",
       "      <th>2</th>\n",
       "      <td>0.580836</td>\n",
       "      <td>Venue 1</td>\n",
       "      <td>Second</td>\n",
       "      <td>7.771260</td>\n",
       "    </tr>\n",
       "    <tr>\n",
       "      <th>3</th>\n",
       "      <td>0.564116</td>\n",
       "      <td>Venue 2</td>\n",
       "      <td>Second</td>\n",
       "      <td>0.995235</td>\n",
       "    </tr>\n",
       "    <tr>\n",
       "      <th>4</th>\n",
       "      <td>0.007788</td>\n",
       "      <td>Venue 1</td>\n",
       "      <td>First</td>\n",
       "      <td>1.287688</td>\n",
       "    </tr>\n",
       "    <tr>\n",
       "      <th>...</th>\n",
       "      <td>...</td>\n",
       "      <td>...</td>\n",
       "      <td>...</td>\n",
       "      <td>...</td>\n",
       "    </tr>\n",
       "    <tr>\n",
       "      <th>95</th>\n",
       "      <td>6.601974</td>\n",
       "      <td>Venue 1</td>\n",
       "      <td>First</td>\n",
       "      <td>68.044646</td>\n",
       "    </tr>\n",
       "    <tr>\n",
       "      <th>96</th>\n",
       "      <td>9.548653</td>\n",
       "      <td>Venue 3</td>\n",
       "      <td>Second</td>\n",
       "      <td>106.097309</td>\n",
       "    </tr>\n",
       "    <tr>\n",
       "      <th>97</th>\n",
       "      <td>4.196001</td>\n",
       "      <td>Venue 2</td>\n",
       "      <td>Second</td>\n",
       "      <td>47.122333</td>\n",
       "    </tr>\n",
       "    <tr>\n",
       "      <th>98</th>\n",
       "      <td>1.586464</td>\n",
       "      <td>Venue 2</td>\n",
       "      <td>First</td>\n",
       "      <td>12.464623</td>\n",
       "    </tr>\n",
       "    <tr>\n",
       "      <th>99</th>\n",
       "      <td>0.941570</td>\n",
       "      <td>Venue 2</td>\n",
       "      <td>Second</td>\n",
       "      <td>8.098670</td>\n",
       "    </tr>\n",
       "  </tbody>\n",
       "</table>\n",
       "<p>100 rows × 4 columns</p>\n",
       "</div>"
      ],
      "text/plain": [
       "    team_performance    venue batting_order       score\n",
       "0           3.745401  Venue 1         First   40.692455\n",
       "1           1.560186  Venue 3         First   23.217013\n",
       "2           0.580836  Venue 1        Second    7.771260\n",
       "3           0.564116  Venue 2        Second    0.995235\n",
       "4           0.007788  Venue 1         First    1.287688\n",
       "..               ...      ...           ...         ...\n",
       "95          6.601974  Venue 1         First   68.044646\n",
       "96          9.548653  Venue 3        Second  106.097309\n",
       "97          4.196001  Venue 2        Second   47.122333\n",
       "98          1.586464  Venue 2         First   12.464623\n",
       "99          0.941570  Venue 2        Second    8.098670\n",
       "\n",
       "[100 rows x 4 columns]"
      ]
     },
     "execution_count": 8,
     "metadata": {},
     "output_type": "execute_result"
    }
   ],
   "source": [
    "data"
   ]
  },
  {
   "cell_type": "code",
   "execution_count": 5,
   "id": "8cddec83",
   "metadata": {},
   "outputs": [],
   "source": [
    "import gradio as gr\n",
    "import pandas as pd\n",
    "from sklearn.model_selection import train_test_split\n",
    "from sklearn.linear_model import LinearRegression\n",
    "from sklearn.metrics import mean_squared_error"
   ]
  },
  {
   "cell_type": "code",
   "execution_count": 6,
   "id": "c05383c7",
   "metadata": {},
   "outputs": [
    {
     "name": "stdout",
     "output_type": "stream",
     "text": [
      "   team_performance    venue batting_order      score\n",
      "0          3.745401  Venue 1         First  40.692455\n",
      "1          1.560186  Venue 3         First  23.217013\n",
      "2          0.580836  Venue 1        Second   7.771260\n",
      "3          0.564116  Venue 2        Second   0.995235\n",
      "4          0.007788  Venue 1         First   1.287688\n"
     ]
    }
   ],
   "source": [
    "data = pd.read_csv(\"ipl_data.csv\")\n",
    "\n",
    "# Display the data\n",
    "print(data.head())"
   ]
  },
  {
   "cell_type": "code",
   "execution_count": 7,
   "id": "1970c808",
   "metadata": {},
   "outputs": [],
   "source": [
    "X = data.drop(\"score\", axis=1)  # Input features\n",
    "y = data[\"score\"]  # Target variable"
   ]
  },
  {
   "cell_type": "code",
   "execution_count": 8,
   "id": "1f9d8457",
   "metadata": {},
   "outputs": [],
   "source": [
    "X_train, X_test, y_train, y_test = train_test_split(X, y, test_size=0.2, random_state=42)"
   ]
  },
  {
   "cell_type": "code",
   "execution_count": 9,
   "id": "0e9b7d3d",
   "metadata": {},
   "outputs": [],
   "source": [
    "X=pd.get_dummies(X,columns=['team_performance',\t'venue','batting_order'])"
   ]
  },
  {
   "cell_type": "code",
   "execution_count": 10,
   "id": "323cc8a2",
   "metadata": {},
   "outputs": [],
   "source": [
    "X_train, X_test, y_train, y_test = train_test_split(X, y, test_size=0.2, random_state=42)"
   ]
  },
  {
   "cell_type": "code",
   "execution_count": 11,
   "id": "95c90afc",
   "metadata": {},
   "outputs": [
    {
     "data": {
      "text/plain": [
       "LinearRegression()"
      ]
     },
     "execution_count": 11,
     "metadata": {},
     "output_type": "execute_result"
    }
   ],
   "source": [
    "model = LinearRegression()\n",
    "model.fit(X_train, y_train)\n",
    "\n"
   ]
  },
  {
   "cell_type": "code",
   "execution_count": 12,
   "id": "04534c21",
   "metadata": {},
   "outputs": [
    {
     "name": "stdout",
     "output_type": "stream",
     "text": [
      "Mean Squared Error: 971.8760207764905\n"
     ]
    }
   ],
   "source": [
    "y_pred = model.predict(X_test)\n",
    "mse = mean_squared_error(y_test, y_pred)\n",
    "print(\"Mean Squared Error:\", mse)"
   ]
  },
  {
   "cell_type": "code",
   "execution_count": 13,
   "id": "f1eb76f2",
   "metadata": {},
   "outputs": [],
   "source": [
    "def predict_score(team_performance, venue, batting_order):\n",
    "    # Preprocess the input data (if needed)\n",
    "    # ...\n",
    "\n",
    "    # Make the prediction\n",
    "    input_data = [team_performance, venue, batting_order]  # Assuming these are the features used for prediction\n",
    "    prediction = model.predict([input_data])[0]\n",
    "\n",
    "    return prediction\n"
   ]
  },
  {
   "cell_type": "code",
   "execution_count": 14,
   "id": "a7ab1c51",
   "metadata": {},
   "outputs": [],
   "source": [
    "data_encoded = pd.get_dummies(data, columns=['team_performance', 'venue', 'batting_order'])"
   ]
  },
  {
   "cell_type": "code",
   "execution_count": 15,
   "id": "54307e55",
   "metadata": {},
   "outputs": [
    {
     "name": "stdout",
     "output_type": "stream",
     "text": [
      "Mean Squared Error: 20.04615299968407\n",
      "Running on local URL:  http://127.0.0.1:7860\n",
      "Running on public URL: https://ad2320268b56a7ba0b.gradio.live\n",
      "\n",
      "This share link expires in 72 hours. For free permanent hosting and GPU upgrades, run `gradio deploy` from Terminal to deploy to Spaces (https://huggingface.co/spaces)\n"
     ]
    },
    {
     "data": {
      "text/html": [
       "<div><iframe src=\"https://ad2320268b56a7ba0b.gradio.live\" width=\"100%\" height=\"500\" allow=\"autoplay; camera; microphone; clipboard-read; clipboard-write;\" frameborder=\"0\" allowfullscreen></iframe></div>"
      ],
      "text/plain": [
       "<IPython.core.display.HTML object>"
      ]
     },
     "metadata": {},
     "output_type": "display_data"
    },
    {
     "data": {
      "text/plain": []
     },
     "execution_count": 15,
     "metadata": {},
     "output_type": "execute_result"
    }
   ],
   "source": [
    "import gradio as gr\n",
    "import pandas as pd\n",
    "from sklearn.model_selection import train_test_split\n",
    "from sklearn.linear_model import LinearRegression\n",
    "from sklearn.metrics import mean_squared_error\n",
    "\n",
    "# Load the dataset\n",
    "data = pd.read_csv(\"ipl_data.csv\")\n",
    "\n",
    "# Preprocess the data\n",
    "data_encoded = pd.get_dummies(data, columns=['venue', 'batting_order'])\n",
    "X = data_encoded.drop(\"score\", axis=1)  # Input features\n",
    "y = data_encoded[\"score\"]  # Target variable\n",
    "\n",
    "# Split the data into training and testing sets\n",
    "X_train, X_test, y_train, y_test = train_test_split(X, y, test_size=0.2, random_state=42)\n",
    "\n",
    "# Train the model\n",
    "model = LinearRegression()\n",
    "model.fit(X_train, y_train)\n",
    "\n",
    "# Evaluate the model\n",
    "y_pred = model.predict(X_test)\n",
    "mse = mean_squared_error(y_test, y_pred)\n",
    "print(\"Mean Squared Error:\", mse)\n",
    "\n",
    "# Define the prediction function\n",
    "def predict_score(team_performance, venue, batting_order):\n",
    "    # Create a DataFrame from the input values\n",
    "    input_data = {\n",
    "        'team_performance': [team_performance],\n",
    "        'venue_' + venue: [1],  # One-hot encoding for venue\n",
    "        'batting_order_' + batting_order: [1]  # One-hot encoding for batting order\n",
    "    }\n",
    "    input_df = pd.DataFrame(input_data)\n",
    "\n",
    "    # Perform one-hot encoding to match the dimensions of the training data\n",
    "    missing_cols = set(X.columns) - set(input_df.columns)\n",
    "    for col in missing_cols:\n",
    "        input_df[col] = 0\n",
    "\n",
    "    # Ensure the order of columns hes the training data\n",
    "    input_df = input_df[X.columns]\n",
    "\n",
    "    # Make the prediction\n",
    "    prediction = model.predict(input_df)[0]\n",
    "\n",
    "    return prediction\n",
    "\n",
    "# Create the Gradio interface\n",
    "iface = gr.Interface(\n",
    "    fn=predict_score,\n",
    "    inputs=[\"number\", \"text\", \"text\"],  # Input types: team performance (numeric), venue (text), batting order (text)\n",
    "    outputs=\"number\"  # Output type: predicted score (numeric)\n",
    ")\n",
    "\n",
    "# Launch the interface\n",
    "iface.launch(share=True)\n"
   ]
  },
  {
   "cell_type": "code",
   "execution_count": null,
   "id": "6bcec65d",
   "metadata": {},
   "outputs": [],
   "source": []
  }
 ],
 "metadata": {
  "kernelspec": {
   "display_name": "Python 3 (ipykernel)",
   "language": "python",
   "name": "python3"
  },
  "language_info": {
   "codemirror_mode": {
    "name": "ipython",
    "version": 3
   },
   "file_extension": ".py",
   "mimetype": "text/x-python",
   "name": "python",
   "nbconvert_exporter": "python",
   "pygments_lexer": "ipython3",
   "version": "3.9.7"
  }
 },
 "nbformat": 4,
 "nbformat_minor": 5
}
